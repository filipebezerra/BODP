{
  "nbformat": 4,
  "nbformat_minor": 0,
  "metadata": {
    "colab": {
      "name": "Trabalho Prático do Módulo 1.ipynb",
      "provenance": []
    },
    "kernelspec": {
      "name": "python3",
      "display_name": "Python 3"
    }
  },
  "cells": [
    {
      "cell_type": "code",
      "metadata": {
        "id": "cI5rhYoy0Rgg",
        "colab_type": "code",
        "colab": {
          "base_uri": "https://localhost:8080/",
          "height": 50
        },
        "outputId": "d8ac0432-6652-4f47-a975-d0b37726d333"
      },
      "source": [
        "# Código 1\n",
        "idade = int(input(\"Entre com a sua idade:\"))\n",
        "nova_idade = idade + 1\n",
        "print(\"No próximo ano você terá {} anos\".format(nova_idade))"
      ],
      "execution_count": null,
      "outputs": [
        {
          "output_type": "stream",
          "text": [
            "Entre com a sua idade:10\n",
            "No próximo ano você terá 11 anos\n"
          ],
          "name": "stdout"
        }
      ]
    },
    {
      "cell_type": "code",
      "metadata": {
        "id": "lXytdyH41b2I",
        "colab_type": "code",
        "colab": {
          "base_uri": "https://localhost:8080/",
          "height": 34
        },
        "outputId": "45b926dd-3be2-4a60-fb2a-87c6397c8786"
      },
      "source": [
        "# Código 2\n",
        "lado_a = 35\n",
        "lado_b = 14.33333\n",
        "area_do_retangulo = lado_a * lado_b\n",
        "print(\"O retângulo de lado A = %d e lado B = %.2f é %.3f \" % (lado_a, lado_b, area_do_retangulo))"
      ],
      "execution_count": 7,
      "outputs": [
        {
          "output_type": "stream",
          "text": [
            "O retângulo de lado A = 35 e lado B = 14.33 é 501.667 \n"
          ],
          "name": "stdout"
        }
      ]
    },
    {
      "cell_type": "code",
      "metadata": {
        "id": "HcOwYjwd2mjl",
        "colab_type": "code",
        "colab": {
          "base_uri": "https://localhost:8080/",
          "height": 34
        },
        "outputId": "df25e75f-cb57-4596-8867-f964000ac989"
      },
      "source": [
        "# Código 3\n",
        "lista_1 = [1, 2, \"IGTI\"]\n",
        "lista_2 = [2, 3, \"Bootcamp\"]\n",
        "lista_3 = lista_1 + lista_2\n",
        "print(lista_3) "
      ],
      "execution_count": 10,
      "outputs": [
        {
          "output_type": "stream",
          "text": [
            "[1, 2, 'IGTI', 2, 3, 'Bootcamp']\n"
          ],
          "name": "stdout"
        }
      ]
    },
    {
      "cell_type": "code",
      "metadata": {
        "id": "hbgDdgZo2_Iw",
        "colab_type": "code",
        "colab": {
          "base_uri": "https://localhost:8080/",
          "height": 67
        },
        "outputId": "e1372a77-4864-4256-d1ef-5596ae1211ce"
      },
      "source": [
        "# Código 4\n",
        "chute = int(input(\"Entre com um valor inteiro de 0 a 30: \"))\n",
        "adivinhacao = [5, 6, 10, 14, 16, 20 , 30]\n",
        "if chute in adivinhacao:\n",
        "  print(\"Você acertou um dos números qu eu estava pensando.\")\n",
        "\n",
        "  if chute > 15:\n",
        "    print(\"Esse número é maior do que 15.\")\n",
        "\n",
        "  if chute < 20:\n",
        "    print(\"Esse número é menor do que 20.\")\n",
        "\n",
        "  print(\"Você é fera.\")\n",
        "else:\n",
        "  print(\"Que pena, você errou Pode tentar outra vez.\")\n",
        "print(\"Obrigado por participar.\")"
      ],
      "execution_count": 23,
      "outputs": [
        {
          "output_type": "stream",
          "text": [
            "Entre com um valor inteiro de 0 a 30: 5\n",
            "Que pena, você errou Pode tentar outra vez.\n",
            "Obrigado por participar.\n"
          ],
          "name": "stdout"
        }
      ]
    },
    {
      "cell_type": "code",
      "metadata": {
        "id": "4-orRzyw4UD0",
        "colab_type": "code",
        "colab": {
          "base_uri": "https://localhost:8080/",
          "height": 50
        },
        "outputId": "6176a0de-fc1d-4f38-9593-bc336c5e0ee7"
      },
      "source": [
        "# Código 5\n",
        "frutas = [\"maça\", \"banana\", \"uva\", \"goiaba\"]\n",
        "for x in frutas:\n",
        "  if x == \"uva\":\n",
        "    break\n",
        "  print(\"uva\")"
      ],
      "execution_count": 32,
      "outputs": [
        {
          "output_type": "stream",
          "text": [
            "uva\n",
            "uva\n"
          ],
          "name": "stdout"
        }
      ]
    },
    {
      "cell_type": "code",
      "metadata": {
        "id": "LRrBOKuF4ema",
        "colab_type": "code",
        "colab": {
          "base_uri": "https://localhost:8080/",
          "height": 118
        },
        "outputId": "1f1996a0-2e49-4557-ff80-0640eaeb1edb"
      },
      "source": [
        "# Código 6\n",
        "n = 5\n",
        "while n >= 0:\n",
        "  n -= 1\n",
        "  print(n)"
      ],
      "execution_count": 30,
      "outputs": [
        {
          "output_type": "stream",
          "text": [
            "4\n",
            "3\n",
            "2\n",
            "1\n",
            "0\n",
            "-1\n"
          ],
          "name": "stdout"
        }
      ]
    }
  ]
}